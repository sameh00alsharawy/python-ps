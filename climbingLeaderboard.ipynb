{
 "cells": [
  {
   "cell_type": "markdown",
   "metadata": {},
   "source": [
    "Alice is playing an arcade game and wants to climb to the top of the leaderboard and wants to track her ranking. The game uses Dense Ranking, so its leaderboard works like this:\n",
    "\n",
    "The player with the highest score is ranked number  on the leaderboard.\n",
    "Players who have equal scores receive the same ranking number, and the next player(s) receive the immediately following ranking number.\n",
    "For example, the four players on the leaderboard have high scores of , , , and . Those players will have ranks , , , and , respectively. If Alice's scores are ,  and , her rankings after each game are ,  and .\n",
    "\n",
    "Function Description\n",
    "\n",
    "Complete the climbingLeaderboard function in the editor below. It should return an integer array where each element  represents Alice's rank after the  game.\n",
    "\n",
    "climbingLeaderboard has the following parameter(s):\n",
    "\n",
    "scores: an array of integers that represent leaderboard scores\n",
    "alice: an array of integers that represent Alice's scores\n",
    "Input Format\n",
    "\n",
    "The first line contains an integer , the number of players on the leaderboard.\n",
    "The next line contains  space-separated integers , the leaderboard scores in decreasing order.\n",
    "The next line contains an integer, , denoting the number games Alice plays.\n",
    "The last line contains  space-separated integers , the game scores.\n",
    "\n"
   ]
  },
  {
   "cell_type": "code",
   "execution_count": 2,
   "metadata": {},
   "outputs": [],
   "source": [
    "l = [5, 6,3,4,8,8,8]"
   ]
  },
  {
   "cell_type": "code",
   "execution_count": 8,
   "metadata": {},
   "outputs": [],
   "source": [
    "l = list(set(l))"
   ]
  },
  {
   "cell_type": "code",
   "execution_count": 9,
   "metadata": {},
   "outputs": [
    {
     "data": {
      "text/plain": [
       "[3, 4, 5, 6, 8]"
      ]
     },
     "execution_count": 9,
     "metadata": {},
     "output_type": "execute_result"
    }
   ],
   "source": [
    "l"
   ]
  },
  {
   "cell_type": "code",
   "execution_count": 15,
   "metadata": {},
   "outputs": [],
   "source": [
    "\n",
    "# Complete the climbingLeaderboard function below.\n",
    "def climbingLeaderboard(scores, alice):\n",
    "    p1 = 0 \n",
    "    p2 = len(scores) -1 \n",
    "    rank = 0\n",
    "#     get the lowest rank\n",
    "    while p1 < len(scores)-1:\n",
    "        if scores[p1]<scores[p1+1]:\n",
    "            p1 += 1 \n",
    "        else:\n",
    "            rank += 1\n",
    "            p1 += 1\n",
    "            \n",
    "    if alice[0] < scores[-1]:\n",
    "        p2 = len(scores) - 2\n",
    "        print(rank)\n",
    "        \n",
    "    for alice_score in alice :\n",
    "        p1 = 0\n",
    "        rank = 1\n",
    "        found = False\n",
    "        while not found and p1<=p2:\n",
    "            if scores[p1] == scores[p1 +1] :\n",
    "                p1 += 1\n",
    "            else:\n",
    "                if alice_score < scores[p1] :\n",
    "                    p1 += 1\n",
    "                    rank += 1\n",
    "                else :\n",
    "                    found = True\n",
    "                    print(rank)\n",
    "                    p2 = p1\n",
    "    return"
   ]
  },
  {
   "cell_type": "code",
   "execution_count": 16,
   "metadata": {},
   "outputs": [
    {
     "name": "stdout",
     "output_type": "stream",
     "text": [
      "6\n",
      "4\n",
      "2\n",
      "1\n"
     ]
    }
   ],
   "source": [
    "climbingLeaderboard([100,100,50,40,40,20,10],[5,25,50,120])"
   ]
  },
  {
   "cell_type": "code",
   "execution_count": null,
   "metadata": {},
   "outputs": [],
   "source": []
  },
  {
   "cell_type": "code",
   "execution_count": null,
   "metadata": {},
   "outputs": [],
   "source": []
  },
  {
   "cell_type": "code",
   "execution_count": null,
   "metadata": {},
   "outputs": [],
   "source": []
  },
  {
   "cell_type": "code",
   "execution_count": null,
   "metadata": {},
   "outputs": [],
   "source": []
  },
  {
   "cell_type": "code",
   "execution_count": null,
   "metadata": {},
   "outputs": [],
   "source": []
  }
 ],
 "metadata": {
  "kernelspec": {
   "display_name": "Python 3",
   "language": "python",
   "name": "python3"
  },
  "language_info": {
   "codemirror_mode": {
    "name": "ipython",
    "version": 3
   },
   "file_extension": ".py",
   "mimetype": "text/x-python",
   "name": "python",
   "nbconvert_exporter": "python",
   "pygments_lexer": "ipython3",
   "version": "3.7.4"
  }
 },
 "nbformat": 4,
 "nbformat_minor": 2
}
