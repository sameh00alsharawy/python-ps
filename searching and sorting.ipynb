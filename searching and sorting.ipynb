{
 "cells": [
  {
   "cell_type": "code",
   "execution_count": 1,
   "metadata": {},
   "outputs": [],
   "source": [
    "def binarysearch(alist, item):\n",
    "    first = 0\n",
    "    last = len(alist)-1\n",
    "    found = False\n",
    "    \n",
    "    while not found and first<=last:\n",
    "        \n",
    "        midpoint = (first+last)//2\n",
    "        \n",
    "        if alist[midpoint] == item :\n",
    "            found = True\n",
    "        else:\n",
    "            if alist[midpoint] > item :\n",
    "                last = midpoint-1\n",
    "            else:\n",
    "                first = midpoint+1\n",
    "    return found            "
   ]
  },
  {
   "cell_type": "code",
   "execution_count": 3,
   "metadata": {},
   "outputs": [
    {
     "data": {
      "text/plain": [
       "True"
      ]
     },
     "execution_count": 3,
     "metadata": {},
     "output_type": "execute_result"
    }
   ],
   "source": [
    "binarysearch(l,32)"
   ]
  },
  {
   "cell_type": "code",
   "execution_count": 6,
   "metadata": {},
   "outputs": [],
   "source": [
    "def binarysearch2(alist,item):\n",
    "    if len(alist) <1:\n",
    "        return False\n",
    "    else:\n",
    "        midpoint = len(alist)//2\n",
    "        print(alist[midpoint])\n",
    "        if alist[midpoint] == item :\n",
    "            print('jnjjh')\n",
    "            return True\n",
    "        else:\n",
    "            if alist[midpoint] > item :\n",
    "                print(alist[:midpoint])\n",
    "                return binarysearch2(alist[:midpoint],item)\n",
    "            else:\n",
    "                print(alist[midpoint+1:])\n",
    "                return binarysearch2(alist[midpoint+1:],item)\n",
    "                "
   ]
  },
  {
   "cell_type": "code",
   "execution_count": 7,
   "metadata": {},
   "outputs": [],
   "source": [
    "l= [0, 1, 2, 8, 13, 17, 19, 32, 42,50,60,78,87,99]"
   ]
  },
  {
   "cell_type": "code",
   "execution_count": 9,
   "metadata": {},
   "outputs": [
    {
     "name": "stdout",
     "output_type": "stream",
     "text": [
      "32\n",
      "[0, 1, 2, 8, 13, 17, 19]\n",
      "8\n",
      "[13, 17, 19]\n",
      "17\n",
      "[13]\n",
      "13\n",
      "jnjjh\n",
      "True\n"
     ]
    }
   ],
   "source": [
    "print(binarysearch2(l,13))"
   ]
  },
  {
   "cell_type": "code",
   "execution_count": null,
   "metadata": {},
   "outputs": [],
   "source": []
  },
  {
   "cell_type": "code",
   "execution_count": null,
   "metadata": {},
   "outputs": [],
   "source": []
  },
  {
   "cell_type": "code",
   "execution_count": null,
   "metadata": {},
   "outputs": [],
   "source": []
  },
  {
   "cell_type": "code",
   "execution_count": null,
   "metadata": {},
   "outputs": [],
   "source": []
  }
 ],
 "metadata": {
  "kernelspec": {
   "display_name": "Python 3",
   "language": "python",
   "name": "python3"
  },
  "language_info": {
   "codemirror_mode": {
    "name": "ipython",
    "version": 3
   },
   "file_extension": ".py",
   "mimetype": "text/x-python",
   "name": "python",
   "nbconvert_exporter": "python",
   "pygments_lexer": "ipython3",
   "version": "3.7.4"
  }
 },
 "nbformat": 4,
 "nbformat_minor": 2
}
