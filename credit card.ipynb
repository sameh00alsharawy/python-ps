{
 "cells": [
  {
   "cell_type": "code",
   "execution_count": 58,
   "metadata": {},
   "outputs": [],
   "source": [
    "def credit(credit_number):\n",
    "    l =[]\n",
    "    while credit_number :\n",
    "        digit = credit_number%10\n",
    "        l.append(digit)\n",
    "        credit_number =credit_number// 10\n",
    "    i=0\n",
    "    s1, s2,s = 0,0,0\n",
    "    while i<len(l):\n",
    "        if i%2 ==1 :\n",
    "            if l[i]*2 >9:\n",
    "                digit = l[i]*2\n",
    "                d1 = digit %10\n",
    "                d2 = digit//10\n",
    "                s1 = s1+d1+d2\n",
    "            else:\n",
    "                s1 = s1 + l[i]*2\n",
    "        else:\n",
    "            s2 += l[i]\n",
    "        i+=1\n",
    "        \n",
    "    s = s1+s2\n",
    "    \n",
    "    return s%10 == 0"
   ]
  },
  {
   "cell_type": "code",
   "execution_count": 51,
   "metadata": {},
   "outputs": [
    {
     "name": "stdout",
     "output_type": "stream",
     "text": [
      "Enter credit number: 371449635398431\n",
      "3 8 d1, d2 (6, 1) 13 5\n",
      "9 9 d1, d2 (8, 1) 34 25\n",
      "13 7 d1, d2 (4, 1) 47 30\n"
     ]
    },
    {
     "data": {
      "text/plain": [
       "True"
      ]
     },
     "execution_count": 51,
     "metadata": {},
     "output_type": "execute_result"
    }
   ],
   "source": [
    "credit()"
   ]
  },
  {
   "cell_type": "code",
   "execution_count": 52,
   "metadata": {},
   "outputs": [],
   "source": [
    "l=[371449635398431,\n",
    "\n",
    "378734493671000,\n",
    "\n",
    "5610591081018250,\n",
    "\n",
    "30569309025904,\n",
    "\n",
    "38520000023237,\n",
    "\n",
    "6011111111111117,\n",
    "\n",
    "6011000990139424,\n",
    "\n",
    "3530111333300000,\n",
    "\n",
    "3566002020360505,\n",
    "\n",
    "5555555555554444,\n",
    "\n",
    "5105105105105100,\n",
    "\n",
    "4111111111111111,\n",
    "\n",
    "4012888888881881,\n",
    "\n",
    "4222222222222]"
   ]
  },
  {
   "cell_type": "code",
   "execution_count": 59,
   "metadata": {},
   "outputs": [
    {
     "name": "stdout",
     "output_type": "stream",
     "text": [
      "[True, True, True, True, True, True, True, True, True, True, True, True, True, True]\n"
     ]
    }
   ],
   "source": [
    "print(list(map(credit,l)))"
   ]
  },
  {
   "cell_type": "code",
   "execution_count": null,
   "metadata": {},
   "outputs": [],
   "source": []
  }
 ],
 "metadata": {
  "kernelspec": {
   "display_name": "Python 3",
   "language": "python",
   "name": "python3"
  },
  "language_info": {
   "codemirror_mode": {
    "name": "ipython",
    "version": 3
   },
   "file_extension": ".py",
   "mimetype": "text/x-python",
   "name": "python",
   "nbconvert_exporter": "python",
   "pygments_lexer": "ipython3",
   "version": "3.7.4"
  }
 },
 "nbformat": 4,
 "nbformat_minor": 2
}
