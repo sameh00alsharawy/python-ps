{
 "cells": [
  {
   "cell_type": "code",
   "execution_count": 7,
   "metadata": {},
   "outputs": [],
   "source": [
    "class stack :\n",
    "    def __init__(self):\n",
    "        self.items=[]\n",
    "        \n",
    "    def IsEmpty(self):\n",
    "        return self.items == []\n",
    "    \n",
    "    def Push(self,item):\n",
    "        self.items.append(item)\n",
    "    \n",
    "    def Pop(self):\n",
    "        return self.items.pop()\n",
    "    \n",
    "    def Peek(self):\n",
    "        return self.items[len(self.items)-1]\n",
    "    \n",
    "    def size(self):\n",
    "        return len(self.items)"
   ]
  },
  {
   "cell_type": "code",
   "execution_count": 8,
   "metadata": {},
   "outputs": [],
   "source": [
    "z=stack()"
   ]
  },
  {
   "cell_type": "code",
   "execution_count": 9,
   "metadata": {},
   "outputs": [],
   "source": [
    "z.Push(4)"
   ]
  },
  {
   "cell_type": "code",
   "execution_count": 10,
   "metadata": {},
   "outputs": [],
   "source": [
    "z.Push(5)"
   ]
  },
  {
   "cell_type": "code",
   "execution_count": 11,
   "metadata": {},
   "outputs": [
    {
     "data": {
      "text/plain": [
       "5"
      ]
     },
     "execution_count": 11,
     "metadata": {},
     "output_type": "execute_result"
    }
   ],
   "source": [
    "z.Peek()"
   ]
  },
  {
   "cell_type": "markdown",
   "metadata": {},
   "source": [
    "## check if parentheses is balanced"
   ]
  },
  {
   "cell_type": "code",
   "execution_count": 35,
   "metadata": {},
   "outputs": [],
   "source": [
    "def check(par):\n",
    "    par=par\n",
    "    stack_ = stack()\n",
    "    balanced =True\n",
    "    i=0\n",
    "    \n",
    "    while i < len(par) and balanced:    \n",
    "        if par[i] =='(':\n",
    "            stack_.Push(i)\n",
    "        elif par[i] == ')':\n",
    "            if stack_.IsEmpty():\n",
    "                balanced=False\n",
    "            else:\n",
    "                stack_.Pop()\n",
    "        i+=1\n",
    "    \n",
    "    if balanced ==True and stack_.IsEmpty():\n",
    "        return True\n",
    "    else:\n",
    "        return False"
   ]
  },
  {
   "cell_type": "code",
   "execution_count": 36,
   "metadata": {},
   "outputs": [
    {
     "data": {
      "text/plain": [
       "False"
      ]
     },
     "execution_count": 36,
     "metadata": {},
     "output_type": "execute_result"
    }
   ],
   "source": [
    "check('(((((()))))))(')"
   ]
  },
  {
   "cell_type": "markdown",
   "metadata": {},
   "source": [
    "## solving the general case with [{("
   ]
  },
  {
   "cell_type": "code",
   "execution_count": 49,
   "metadata": {},
   "outputs": [],
   "source": [
    "def match(p1,p2):\n",
    "    if p1 == \"(\" and p2 == \")\":\n",
    "        return True\n",
    "    elif p1 == \"{\" and p2 == \"}\":\n",
    "        return True\n",
    "    elif p1 == \"[\" and p2 == \"]\":\n",
    "        return True\n",
    "    else:\n",
    "        return False"
   ]
  },
  {
   "cell_type": "code",
   "execution_count": 50,
   "metadata": {},
   "outputs": [],
   "source": [
    "def gcheck(par):\n",
    "    i=0\n",
    "    balanced=True\n",
    "    s=stack()\n",
    "    while i<len(par) and balanced:\n",
    "        p= par[i]\n",
    "        if p in '[({':\n",
    "            s.Push(p)\n",
    "        else:\n",
    "            if s.IsEmpty():\n",
    "                balanced = False\n",
    "            else:\n",
    "                p_=s.Pop()\n",
    "                \n",
    "                if not match(p,p_):\n",
    "                    balanced =False\n",
    "        i+=1\n",
    "    return balanced and s.IsEmpty()"
   ]
  },
  {
   "cell_type": "code",
   "execution_count": 51,
   "metadata": {},
   "outputs": [
    {
     "data": {
      "text/plain": [
       "False"
      ]
     },
     "execution_count": 51,
     "metadata": {},
     "output_type": "execute_result"
    }
   ],
   "source": [
    "gcheck(\"( ( ( ) ] ) )\")"
   ]
  },
  {
   "cell_type": "code",
   "execution_count": null,
   "metadata": {},
   "outputs": [],
   "source": []
  }
 ],
 "metadata": {
  "kernelspec": {
   "display_name": "Python 3",
   "language": "python",
   "name": "python3"
  },
  "language_info": {
   "codemirror_mode": {
    "name": "ipython",
    "version": 3
   },
   "file_extension": ".py",
   "mimetype": "text/x-python",
   "name": "python",
   "nbconvert_exporter": "python",
   "pygments_lexer": "ipython3",
   "version": "3.7.4"
  }
 },
 "nbformat": 4,
 "nbformat_minor": 2
}
