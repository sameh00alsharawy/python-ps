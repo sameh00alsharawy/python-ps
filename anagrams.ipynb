{
 "cells": [
  {
   "cell_type": "markdown",
   "metadata": {},
   "source": [
    "## a function to check if two strings is anagrams, each string is exactly one word"
   ]
  },
  {
   "cell_type": "code",
   "execution_count": 1,
   "metadata": {},
   "outputs": [],
   "source": [
    "def anagramsbasic(str1,str2):\n",
    "    \n",
    "    lst1, lst2 = list(str1.lower()),list(str2.lower())\n",
    "\n",
    "    lst1.sort()\n",
    "    lst2.sort()\n",
    "    \n",
    "    return lst1 == lst2"
   ]
  },
  {
   "cell_type": "code",
   "execution_count": 2,
   "metadata": {},
   "outputs": [
    {
     "data": {
      "text/plain": [
       "True"
      ]
     },
     "execution_count": 2,
     "metadata": {},
     "output_type": "execute_result"
    }
   ],
   "source": [
    "anagramsbasic('Flesh','Shelf')"
   ]
  },
  {
   "cell_type": "markdown",
   "metadata": {},
   "source": [
    "## a function to check if two strings is anagrams, the strings could have whitespaces\n"
   ]
  },
  {
   "cell_type": "code",
   "execution_count": 3,
   "metadata": {},
   "outputs": [],
   "source": [
    "def anagrams1(str1,str2):\n",
    "    \n",
    "    lst1, lst2 = list(str1.lower()),list(str2.lower())\n",
    "\n",
    "    lst1.sort()\n",
    "    lst2.sort()\n",
    "    \n",
    "    # remove spaces\n",
    "    x, y ='', ''\n",
    "    for i in range(len(lst1)):\n",
    "        c= lst1.pop()\n",
    "        if c == ' ' : continue\n",
    "        x = x+c\n",
    "    for i in range(len(lst2)):\n",
    "        c=lst2.pop()\n",
    "        if c == ' ' : continue\n",
    "        y = y+c \n",
    "        \n",
    "    return x == y"
   ]
  },
  {
   "cell_type": "code",
   "execution_count": 4,
   "metadata": {},
   "outputs": [
    {
     "data": {
      "text/plain": [
       "True"
      ]
     },
     "execution_count": 4,
     "metadata": {},
     "output_type": "execute_result"
    }
   ],
   "source": [
    "anagrams1('PRESBYTERIAN','BEST IN PRAYER')"
   ]
  },
  {
   "cell_type": "markdown",
   "metadata": {},
   "source": [
    "## a function to check if two strings is anagrams, the strings could have whitespaces"
   ]
  },
  {
   "cell_type": "code",
   "execution_count": 5,
   "metadata": {},
   "outputs": [],
   "source": [
    "def anagrams2(str1,str2):\n",
    "    \n",
    "    lst1, lst2 = str1.lower().split(), str2.lower().split()\n",
    "    l1, l2 = [], []\n",
    "    for i in lst1:\n",
    "        l1= l1+list(i)\n",
    "            \n",
    "    for i in lst2:\n",
    "        l2=l2+list(i)   \n",
    "    \n",
    "    l1.sort()\n",
    "    l2.sort()\n",
    "            \n",
    "    return l1 == l2"
   ]
  },
  {
   "cell_type": "code",
   "execution_count": 6,
   "metadata": {},
   "outputs": [
    {
     "data": {
      "text/plain": [
       "True"
      ]
     },
     "execution_count": 6,
     "metadata": {},
     "output_type": "execute_result"
    }
   ],
   "source": [
    "anagrams2('PRESBYTERIAN','BEST IN PRAYER')"
   ]
  },
  {
   "cell_type": "markdown",
   "metadata": {},
   "source": [
    "# Test"
   ]
  },
  {
   "cell_type": "code",
   "execution_count": 7,
   "metadata": {},
   "outputs": [],
   "source": [
    "f=['sshdc','DORMITORY','ASTRONOMER','THE EYES','THE MORSE CODE','ANIMOSITY','MOTHER IN LAW' ,'A DECIMAL POINT',\n",
    "  'RIFLE',' SHELF', 'FITS', 'GOLF',' WOLF' ,'FUEL','FROM', 'STEALING']\n",
    "s=['hghgh',\"DIRTY ROOM\",\"MOON STARER\",\"THEY SEE\",\"HERE COME DOTS\",\"IS NO AMITY\",\"WOMAN HITLER\",\"IM A DOT IN PLACE\",\n",
    "  'FLIER' ,'FLESH' ,'FIST ','FLOG ','FLOW ','FLUE ','FORM ','GENITALS' ]"
   ]
  },
  {
   "cell_type": "code",
   "execution_count": 8,
   "metadata": {},
   "outputs": [
    {
     "name": "stdout",
     "output_type": "stream",
     "text": [
      "[False, True, True, True, True, True, True, True, True, True, True, True, True, True, True, True]\n"
     ]
    }
   ],
   "source": [
    "print(list(map(anagrams1,f,s)))"
   ]
  },
  {
   "cell_type": "code",
   "execution_count": 9,
   "metadata": {},
   "outputs": [
    {
     "name": "stdout",
     "output_type": "stream",
     "text": [
      "[False, True, True, True, True, True, True, True, True, True, True, True, True, True, True, True]\n"
     ]
    }
   ],
   "source": [
    "print(list(map(anagrams2,f,s)))"
   ]
  },
  {
   "cell_type": "code",
   "execution_count": 10,
   "metadata": {},
   "outputs": [
    {
     "name": "stdout",
     "output_type": "stream",
     "text": [
      "[False, False, False, True, True, False, False, False, True, False, False, False, True, False, False, True]\n"
     ]
    }
   ],
   "source": [
    "print(list(map(anagramsbasic,f,s)))"
   ]
  },
  {
   "cell_type": "code",
   "execution_count": null,
   "metadata": {},
   "outputs": [],
   "source": []
  }
 ],
 "metadata": {
  "kernelspec": {
   "display_name": "Python 3",
   "language": "python",
   "name": "python3"
  },
  "language_info": {
   "codemirror_mode": {
    "name": "ipython",
    "version": 3
   },
   "file_extension": ".py",
   "mimetype": "text/x-python",
   "name": "python",
   "nbconvert_exporter": "python",
   "pygments_lexer": "ipython3",
   "version": "3.7.4"
  }
 },
 "nbformat": 4,
 "nbformat_minor": 2
}
